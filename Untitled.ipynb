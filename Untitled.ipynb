{
 "cells": [
  {
   "cell_type": "markdown",
   "id": "04237d74",
   "metadata": {},
   "source": [
    "## 1.Проиллюстрируйте сходимость метода *(дихотомии / золотого сечения / Фибоначчи)* (точки, в которых вычисляются значения функции, суждение интервала «неопределенности») при поиске минимума функции $f(x)$ на интервале $[a,b]$ с точностью $\\varepsilon=0.001$ (4-5 итераций)."
   ]
  },
  {
   "cell_type": "markdown",
   "id": "befaf463",
   "metadata": {},
   "source": [
    "### Теория"
   ]
  },
  {
   "cell_type": "markdown",
   "id": "59e0964b",
   "metadata": {},
   "source": [
    "* Метод дихотомии\n",
    "1. Вычисляем две точки согласно следующим соотношениям: $x_1 = \\frac{a_0 + b_0 - \\delta}{2}$ и $x_2 = \\frac{a_0 + b_0 + \\delta}{2}$, где $\\delta \\leq \\varepsilon$\n",
    "2. Вычисляем значения функций $f(x_1)$ и $f(x_2)$\n",
    "3. Если  $f(x_1) < f(x_2)$, то $a_1 = a_0, b_1 = x_2$ иначе $a_1 = x_1, b_1 = b_0$\n",
    "4. Критерий останова: $|b_k - a_k| \\leq \\varepsilon$"
   ]
  },
  {
   "cell_type": "markdown",
   "id": "77e27559",
   "metadata": {},
   "source": [
    "* Метод золотого сечения\n",
    "1. Вычисляем две точки согласно следующим соотношениям: $x_1 = a_0 + \\frac{3-\\sqrt{5}}{2}(b_0 - a_0)$ и $x_2 = b_0 + \\frac{\\sqrt{5} - 3}{2}(b_0 - a_0)$\n",
    "2. Вычисляем значения функций $f(x_1)$ и $f(x_2)$\n",
    "3. Если  $f(x_1) < f(x_2)$, то $a_1 = a_0, b_1 = x_2, x_2 = x_1$ иначе $a_1 = x_1, b_1 = b_0, x_1 = x_2$\n",
    "4. Критерий останова: $|b_k - a_k| \\leq \\varepsilon$"
   ]
  },
  {
   "cell_type": "markdown",
   "id": "1bb8b5ac",
   "metadata": {},
   "source": [
    "* Метод Фибоначчи\n",
    "0. По формуле Бинэ вычисляем $$F_n= \\frac{[\\frac{1 + \\sqrt{5}}{2}]^n - [\\frac{1-\\sqrt{5}}{2}]^n}{\\sqrt{5}}$$\n",
    "1. Вычисляем две точки согласно следующим соотношениям: $x_1 = a_0 + \\frac{F_n}{F_{n+2}}(b_0 - a_0)$ и $x_2 = b_0 + \\frac{F_{n+1}}{F_{n+2}}(b_0 - a_0)$\n",
    "2. Вычисляем значения функций $f(x_1)$ и $f(x_2)$\n",
    "3. Если  $f(x_1) < f(x_2)$, то $a_1 = a_0, b_1 = x_2, x_2 = x_1$ иначе $a_1 = x_1, b_1 = b_0, x_1 = x_2$\n",
    "4. Критерий останова: $\\frac{b_0 - a_0}{\\epsilon} < F_{n+2}$"
   ]
  },
  {
   "cell_type": "markdown",
   "id": "02ee85ec",
   "metadata": {},
   "source": [
    "### Практика"
   ]
  },
  {
   "cell_type": "code",
   "execution_count": 1,
   "id": "b60d62d5",
   "metadata": {},
   "outputs": [],
   "source": [
    "# если на компуктере нет какого-либо из перечисленных пакетов,\n",
    "# то скачиваем их через консоль следующей командой:\n",
    "# pip install {название_пакета}\n",
    "# Task1 - созданный мною модуль, его качать не надо\n",
    "import numpy as np\n",
    "import Task1 as TSK1\n",
    "import sympy as sm\n",
    "import scipy as sp\n",
    "from scipy.optimize import linprog\n",
    "import torch\n",
    "import Task3 as TSK3\n",
    "import numdifftools as nd"
   ]
  },
  {
   "cell_type": "code",
   "execution_count": 2,
   "id": "017d498c",
   "metadata": {},
   "outputs": [],
   "source": [
    "# Ввести функцию\n",
    "def f1(x):\n",
    "    return 1 - 1 / (0.5 * x * np.sqrt(2 * np.pi)) * np.exp(-2 * np.log(x) ** 2)"
   ]
  },
  {
   "cell_type": "code",
   "execution_count": 3,
   "id": "74afaee0",
   "metadata": {},
   "outputs": [
    {
     "name": "stdout",
     "output_type": "stream",
     "text": [
      "14\n"
     ]
    },
    {
     "data": {
      "text/html": [
       "<div>\n",
       "<style scoped>\n",
       "    .dataframe tbody tr th:only-of-type {\n",
       "        vertical-align: middle;\n",
       "    }\n",
       "\n",
       "    .dataframe tbody tr th {\n",
       "        vertical-align: top;\n",
       "    }\n",
       "\n",
       "    .dataframe thead th {\n",
       "        text-align: right;\n",
       "    }\n",
       "</style>\n",
       "<table border=\"1\" class=\"dataframe\">\n",
       "  <thead>\n",
       "    <tr style=\"text-align: right;\">\n",
       "      <th></th>\n",
       "      <th>ai</th>\n",
       "      <th>x1</th>\n",
       "      <th>x2</th>\n",
       "      <th>bi</th>\n",
       "    </tr>\n",
       "  </thead>\n",
       "  <tbody>\n",
       "    <tr>\n",
       "      <th>1</th>\n",
       "      <td>0.200000</td>\n",
       "      <td>1.345889</td>\n",
       "      <td>2.054111</td>\n",
       "      <td>3.200000</td>\n",
       "    </tr>\n",
       "    <tr>\n",
       "      <th>2</th>\n",
       "      <td>0.200000</td>\n",
       "      <td>0.908223</td>\n",
       "      <td>1.345889</td>\n",
       "      <td>2.054111</td>\n",
       "    </tr>\n",
       "    <tr>\n",
       "      <th>3</th>\n",
       "      <td>0.200000</td>\n",
       "      <td>0.637666</td>\n",
       "      <td>0.908223</td>\n",
       "      <td>1.345889</td>\n",
       "    </tr>\n",
       "    <tr>\n",
       "      <th>4</th>\n",
       "      <td>0.637666</td>\n",
       "      <td>0.908223</td>\n",
       "      <td>1.075332</td>\n",
       "      <td>1.345889</td>\n",
       "    </tr>\n",
       "    <tr>\n",
       "      <th>5</th>\n",
       "      <td>0.637666</td>\n",
       "      <td>0.804775</td>\n",
       "      <td>0.908223</td>\n",
       "      <td>1.075332</td>\n",
       "    </tr>\n",
       "    <tr>\n",
       "      <th>6</th>\n",
       "      <td>0.637666</td>\n",
       "      <td>0.741114</td>\n",
       "      <td>0.804775</td>\n",
       "      <td>0.908223</td>\n",
       "    </tr>\n",
       "    <tr>\n",
       "      <th>7</th>\n",
       "      <td>0.741114</td>\n",
       "      <td>0.804775</td>\n",
       "      <td>0.844562</td>\n",
       "      <td>0.908223</td>\n",
       "    </tr>\n",
       "    <tr>\n",
       "      <th>8</th>\n",
       "      <td>0.741114</td>\n",
       "      <td>0.780902</td>\n",
       "      <td>0.804775</td>\n",
       "      <td>0.844562</td>\n",
       "    </tr>\n",
       "    <tr>\n",
       "      <th>9</th>\n",
       "      <td>0.741114</td>\n",
       "      <td>0.764987</td>\n",
       "      <td>0.780902</td>\n",
       "      <td>0.804775</td>\n",
       "    </tr>\n",
       "    <tr>\n",
       "      <th>10</th>\n",
       "      <td>0.764987</td>\n",
       "      <td>0.780902</td>\n",
       "      <td>0.788859</td>\n",
       "      <td>0.804775</td>\n",
       "    </tr>\n",
       "    <tr>\n",
       "      <th>11</th>\n",
       "      <td>0.764987</td>\n",
       "      <td>0.772944</td>\n",
       "      <td>0.780902</td>\n",
       "      <td>0.788859</td>\n",
       "    </tr>\n",
       "    <tr>\n",
       "      <th>12</th>\n",
       "      <td>0.772944</td>\n",
       "      <td>0.780902</td>\n",
       "      <td>0.780902</td>\n",
       "      <td>0.788859</td>\n",
       "    </tr>\n",
       "    <tr>\n",
       "      <th>13</th>\n",
       "      <td>0.780902</td>\n",
       "      <td>0.780902</td>\n",
       "      <td>0.788859</td>\n",
       "      <td>0.788859</td>\n",
       "    </tr>\n",
       "  </tbody>\n",
       "</table>\n",
       "</div>"
      ],
      "text/plain": [
       "          ai        x1        x2        bi\n",
       "1   0.200000  1.345889  2.054111  3.200000\n",
       "2   0.200000  0.908223  1.345889  2.054111\n",
       "3   0.200000  0.637666  0.908223  1.345889\n",
       "4   0.637666  0.908223  1.075332  1.345889\n",
       "5   0.637666  0.804775  0.908223  1.075332\n",
       "6   0.637666  0.741114  0.804775  0.908223\n",
       "7   0.741114  0.804775  0.844562  0.908223\n",
       "8   0.741114  0.780902  0.804775  0.844562\n",
       "9   0.741114  0.764987  0.780902  0.804775\n",
       "10  0.764987  0.780902  0.788859  0.804775\n",
       "11  0.764987  0.772944  0.780902  0.788859\n",
       "12  0.772944  0.780902  0.780902  0.788859\n",
       "13  0.780902  0.780902  0.788859  0.788859"
      ]
     },
     "execution_count": 3,
     "metadata": {},
     "output_type": "execute_result"
    }
   ],
   "source": [
    "# Задать параметры\n",
    "_a0 = 0.2\n",
    "_b0 = 3.2\n",
    "#TSK1.DichotomyMethod(f1, a0 = _a0, b0 = _b0)\n",
    "#TSK1.GoldenRatioMethod(f1, a0 = _a0, b0 = _b0)\n",
    "TSK1.FibonachiMethod(f1, eps = 0.01, a0 = _a0, b0 = _b0)"
   ]
  },
  {
   "cell_type": "markdown",
   "id": "b6a7327d",
   "metadata": {},
   "source": [
    "## 2.\tПроиллюстрируйте сходимость метода *(какого-то там)* на двумерной функции, представленной некоторыми линиями уровня, из точки $x^0$. Укажите сопряженные направления."
   ]
  },
  {
   "cell_type": "markdown",
   "id": "4e0abe14",
   "metadata": {},
   "source": [
    "### Метод Гаусса"
   ]
  },
  {
   "cell_type": "markdown",
   "id": "410c72da",
   "metadata": {},
   "source": [
    "1. Пусть имеется начальное приближение $x^0 = (x_1^0, x_2^0, ... , x_n^0)$\n",
    "2. Находим $x_1 = arg(min(f(x^0)))$, при изменяющейся первой координате и фиксированных остальных компонентах. Получим вектор $x^1 = (x_1^1, x_2^0,...,x_n^0)$. Продолжаем до тех пор, пока остаются не использованные координаты вектора. \n",
    "3. В итоге получим вектор $x^n = (x_1^1, x_2^2, ..., x_n^n)$\n",
    "4. Критерии останова: $||f(x^{k+1}) - f(x^k)|| \\leq \\epsilon_0$ или $|x_i^{k+1} - x_i^k| \\leq \\varepsilon_i$"
   ]
  },
  {
   "cell_type": "markdown",
   "id": "30a6f0e6",
   "metadata": {},
   "source": [
    "![title](Gauss.png)"
   ]
  },
  {
   "cell_type": "markdown",
   "id": "f94fae9b",
   "metadata": {},
   "source": [
    "### Метод Хука и Дживса"
   ]
  },
  {
   "cell_type": "markdown",
   "id": "39c97b28",
   "metadata": {},
   "source": [
    "1. Задаем $x_0$ и $\\Delta x^0$. После приступаем к **исследующему поиску**.\n",
    "2. **Исследующий поиск**.\n",
    "3. Делаем пробный шаг по переменной $x_1$, определяем точку $x_1^0 + \\Delta x_1^0$ и вычисляем значение функции в точке $x' = (x_1^0 + \\Delta x_1^0, x_2^0, ..., x_n^0)$\n",
    "4. Если $f(x') > f(x^0)$, то делаем пробный шаг по той же переменной, но в обратном направлении. Если же $f(x'') > f(x^0)$, то оставляем $x^0$ неизменной.\n",
    "Иначе заменяем ее на $x'$ или $x''$, в зависимости от того, где значение функции меньше исходного. Из вновь полученной точки делаем пробные шаги по оставшимся координатам, используя тот же самый алгоритм.\n",
    "5. Если в процессе исследующего шага не удается сделать ни одного удачного пробного шага, то $\\Delta x$ необходимо скорректировать (уменьшить). После этого вновь переходим к исследующему поиску.\n",
    "6. Если в процессе исследующего поиска сделан хотя бы один удачный пробный шаг, то переходим к **поиску по образцу**.\n",
    "7. **Поиск по образцу**. После исследующего поиска мы получаем точку $x^{01}$. Направление $x^{01} - x^0$ определяет направление, в котором функция уменьшается. Поэтому проводим минимизацию функции в указанном направлении, решая задачу\n",
    "$$\\lambda_0 = arg(min(f(x^0 + \\lambda(x^{01} - x^0))))$$\n",
    "8. Из точки $x^1$ начинаем новый исследующий поиск и т.д."
   ]
  },
  {
   "cell_type": "markdown",
   "id": "3c1c16fe",
   "metadata": {},
   "source": [
    "![title](Hook-Jeevse.png)"
   ]
  },
  {
   "cell_type": "markdown",
   "id": "856b2c35",
   "metadata": {},
   "source": [
    "### Метод Розенброка"
   ]
  },
  {
   "cell_type": "markdown",
   "id": "36ab9388",
   "metadata": {},
   "source": [
    "1. Выбираем систему ортогональных уравнений $S_1^0, S_2^0, ..., S_n^0$, в каждом из которых последовательно ищется минимальное значение, после чего система направлений поворачивается так, чтобы одна из осей совпала с направлением полного перемещения, а остальные были ортоганальны между собой. \n",
    "2. Выбираем вектор начального приближения $x^0$. На первой итерации берем ортонормированную систему координат. Находя с $x^0$, последовательно минимизируем функцию $f(x)$ в направлениях, соответствующих $S_1^0, S_2^0, ..., S_n^0$, находя последовательные приближения:\n",
    "$$x_1^0 = x_0^0 + \\lambda_1 S_1^0 | \\lambda_1 = arg(min(f(x_0 + \\lambda S_1^0)))$$,\n",
    "\n",
    "$$...$$\n",
    "\n",
    "$$x_n^0 = x_{n-1}^0 + \\lambda_1 S_1^0 | \\lambda_1 = arg(min(f(x_{n-1} + \\lambda S_n^0)))$$\n",
    "3. Следующая итерация начинается с точки $x^1 = x_n^0$\n",
    "\n",
    "4. После завершения $k$-го этапа вычисляем новые направления поиска. Ортогональные направления поиска поворачивают так, чтобы они оказались вытянутыми вдоль оврага, таким образом будет исключаться взаимодействие переменных $(x_i, x_j)$. \n",
    "\n",
    "5. Я ебал переписывать весь алгоритм"
   ]
  },
  {
   "cell_type": "markdown",
   "id": "0e4974db",
   "metadata": {},
   "source": [
    "![image.png](Rosenbrok.png)"
   ]
  },
  {
   "cell_type": "markdown",
   "id": "29ac7505",
   "metadata": {},
   "source": [
    "### Симплексный метод Нелдера - Мида или поиск по деформируемому многограннику"
   ]
  },
  {
   "cell_type": "markdown",
   "id": "72643c93",
   "metadata": {},
   "source": [
    "Знать пора"
   ]
  },
  {
   "cell_type": "markdown",
   "id": "d22f8207",
   "metadata": {},
   "source": [
    "![image.png](Nelder-Mead.png)"
   ]
  },
  {
   "cell_type": "markdown",
   "id": "470d1aa4",
   "metadata": {},
   "source": [
    "### Метод Пауэлла"
   ]
  },
  {
   "cell_type": "markdown",
   "id": "e7416bb8",
   "metadata": {},
   "source": [
    "![image.png](Pauell1.png)"
   ]
  },
  {
   "cell_type": "markdown",
   "id": "afc02392",
   "metadata": {},
   "source": [
    "![image.png](Pauell2.png)"
   ]
  },
  {
   "cell_type": "markdown",
   "id": "091bfc06",
   "metadata": {},
   "source": [
    "### Алгоритм наискорейшего спуска"
   ]
  },
  {
   "cell_type": "markdown",
   "id": "073e4811",
   "metadata": {},
   "source": [
    "![image.png](Fastest1.png)"
   ]
  },
  {
   "cell_type": "markdown",
   "id": "ab83b359",
   "metadata": {},
   "source": [
    "![image.png](Fastest2.png)"
   ]
  },
  {
   "cell_type": "markdown",
   "id": "750d152c",
   "metadata": {},
   "source": [
    "### Метод сопряженных градиентов"
   ]
  },
  {
   "cell_type": "markdown",
   "id": "01625293",
   "metadata": {},
   "source": [
    "![image.png](MCG.png)"
   ]
  },
  {
   "cell_type": "markdown",
   "id": "25f2ef0f",
   "metadata": {},
   "source": [
    "### Многопараметрический поиск"
   ]
  },
  {
   "cell_type": "markdown",
   "id": "07556148",
   "metadata": {},
   "source": [
    "Рисунка не будет ("
   ]
  },
  {
   "cell_type": "markdown",
   "id": "d6c0684a",
   "metadata": {},
   "source": [
    "###  Метод Ньютона"
   ]
  },
  {
   "cell_type": "markdown",
   "id": "43b5b701",
   "metadata": {},
   "source": [
    "![image.png](Newtone1.png)"
   ]
  },
  {
   "cell_type": "markdown",
   "id": "2fd02c40",
   "metadata": {},
   "source": [
    "![image.png](Newtone2.png)"
   ]
  },
  {
   "cell_type": "markdown",
   "id": "45609ed7",
   "metadata": {},
   "source": [
    "### Метод Бройдена"
   ]
  },
  {
   "cell_type": "markdown",
   "id": "56ec866d",
   "metadata": {},
   "source": [
    "Рисунок аналогичен всем методам переменной метрики"
   ]
  },
  {
   "cell_type": "markdown",
   "id": "793af9b6",
   "metadata": {},
   "source": [
    "![image.png](Broyden.png)"
   ]
  },
  {
   "cell_type": "markdown",
   "id": "9c5437ec",
   "metadata": {},
   "source": [
    "## 3. В (алгоритме переменной метрики) очередное приближение матрицы направлений определяется выражением *(не обязательно следующим)*\n",
    "$$\\eta^{k+1} = \\eta^k + \\frac{[\\Delta x^k - \\eta^k \\bullet \\Delta g^k] \\bullet [\\Delta x^k - \\eta^k \\bullet \\Delta g^k]^T}{[\\Delta x^k - \\eta^k \\bullet \\Delta g^k]^T \\bullet \\Delta g^k}$$\n",
    "## где $\\eta^0 = R^0$ - произвольная положительно определенная матрица.С использованием данного алгоритма переменной метрики минимизировать функцию $f(x)$ начиная из точки $x^0$. Найти приближение $x^2$. Желательная точность поиска $\\eta \\leq 0.02$"
   ]
  },
  {
   "cell_type": "code",
   "execution_count": 2,
   "id": "514d49ca",
   "metadata": {},
   "outputs": [
    {
     "name": "stdout",
     "output_type": "stream",
     "text": [
      "k =  0\n",
      "xk:  [1 0]\n",
      "f:  331\n",
      "df: [  82. -236.]\n",
      "eta: [[1. 0.]\n",
      " [0. 1.]]\n",
      "Sk: [-82. 236.]\n",
      "\n",
      "k =  1\n",
      "xk:  [0.20552265 2.28654457]\n",
      "f:  28.613946095792496\n",
      "df: [-17.79410613  -6.18289346]\n",
      "eta: [[ 0.00963399 -0.99036601]\n",
      " [-0.99036601  0.00963399]]\n",
      "Sk: [ -5.95189938 -17.56311205]\n",
      "\n",
      "k =  2\n",
      "xk:  [0.26811225 2.47123657]\n",
      "f:  27.486118327436404\n",
      "df: [-23.066047     7.81677719]\n",
      "eta: [[-1.48831164 -2.48831164]\n",
      " [-2.48831164 -1.48831164]]\n",
      "Sk: [-14.87888859 -45.76171279]\n",
      "\n"
     ]
    }
   ],
   "source": [
    "# Вводим функцию\n",
    "def f(x):\n",
    "    return (x[0] + 2 * x[1] - 10)**2 + 10 * (x[0] - 2 * x[1] + 4)**2\n",
    "\n",
    "# Вводим алгоритм поиска матрицы Эта\n",
    "def eta_algo(dxk, dgk, eta):\n",
    "    temp = np.dot(eta, dgk)\n",
    "    t = np.dot(dxk - temp, np.transpose(temp)) / np.dot(np.transpose(dgk), temp)\n",
    "    return eta + t\n",
    "\n",
    "x0 = np.array([1, 0])\n",
    "TSK3.pirson(f, eta_algo, x0)"
   ]
  },
  {
   "cell_type": "markdown",
   "id": "63deed47",
   "metadata": {},
   "source": [
    "## 4.\tМетодом множителей Лагранжа решить задачу $min\\{f(x)| q(x) = c\\}$. Записать функцию Лагранжа, необходимые условия для точки минимума и решение."
   ]
  },
  {
   "cell_type": "markdown",
   "id": "ccd5ba5f",
   "metadata": {},
   "source": [
    "### Описание метода"
   ]
  },
  {
   "cell_type": "markdown",
   "id": "742a9d77",
   "metadata": {},
   "source": [
    "* Составим функцию Лагранжа в виде линейной комбинации функции $f$ и функции $\\phi_i$, взятых с коэффициентами, называемыми *множителями Лагранжа* - $\\lambda_i$\n",
    "$$L(x, \\lambda) = f(x) + \\sum \\lambda_i \\phi_i(x)$$,\n",
    "* Составим систему из $n+m$ уравнений, приравняв к нулю частные производные функции Лагранжа по $x_j$ и $\\lambda_i$\n",
    "$$\\frac{dL}{dx_1} = 0$$\n",
    "\n",
    "$$\\frac{dL}{dx_2} = 0$$\n",
    "\n",
    "$$...$$\n",
    "\n",
    "$$\\frac{dL}{dx_n} = 0$$\n",
    "\n",
    "$$\\frac{dL}{dl_1} = 0$$\n",
    "\n",
    "$$...$$\n",
    "\n",
    "$$\\frac{dL}{dl_m} = 0$$\n",
    "* Если полученная система имеет решение относительно параметров $x'_{j}$ и $\\lambda'_{i}$, тогда точка $x'$ может быть условным экстремумом, то есть решением исходной задачи. Заметим, что это условие носит необходимый, но не достаточный характер."
   ]
  },
  {
   "cell_type": "markdown",
   "id": "0dedb039",
   "metadata": {},
   "source": [
    "$$f(x_1,x_2) = 5(2x_1 + x_2-10)^2 + (x_1-2x_2+4)^2$$\n",
    "$$x_1 + x_2 = 5$$"
   ]
  },
  {
   "cell_type": "code",
   "execution_count": 49,
   "id": "8a4f44d3",
   "metadata": {},
   "outputs": [],
   "source": [
    "# Задаем все имеющиеся переменные\n",
    "x1 = sm.Symbol('x1')\n",
    "x2 = sm.Symbol('x2')\n",
    "l = sm.Symbol('l')\n",
    "\n",
    "# Задаем функцию\n",
    "F4 = 5 * (2 * x1 + x2 - 10) ** 2 + (x1 - 2 * x2 + 4) ** 2 + l * (x1 + x2 - 5)"
   ]
  },
  {
   "cell_type": "code",
   "execution_count": 50,
   "id": "51d8383a",
   "metadata": {},
   "outputs": [
    {
     "data": {
      "text/latex": [
       "$\\displaystyle l + 42 x_{1} + 16 x_{2} - 192$"
      ],
      "text/plain": [
       "l + 42*x1 + 16*x2 - 192"
      ]
     },
     "execution_count": 50,
     "metadata": {},
     "output_type": "execute_result"
    }
   ],
   "source": [
    "F4.diff(x1)"
   ]
  },
  {
   "cell_type": "code",
   "execution_count": 51,
   "id": "b7658c90",
   "metadata": {},
   "outputs": [
    {
     "data": {
      "text/latex": [
       "$\\displaystyle l + 16 x_{1} + 18 x_{2} - 116$"
      ],
      "text/plain": [
       "l + 16*x1 + 18*x2 - 116"
      ]
     },
     "execution_count": 51,
     "metadata": {},
     "output_type": "execute_result"
    }
   ],
   "source": [
    "F4.diff(x2)"
   ]
  },
  {
   "cell_type": "code",
   "execution_count": 52,
   "id": "9e0a7f84",
   "metadata": {},
   "outputs": [
    {
     "data": {
      "text/latex": [
       "$\\displaystyle x_{1} + x_{2} - 5$"
      ],
      "text/plain": [
       "x1 + x2 - 5"
      ]
     },
     "execution_count": 52,
     "metadata": {},
     "output_type": "execute_result"
    }
   ],
   "source": [
    "F4.diff(l)"
   ]
  },
  {
   "cell_type": "code",
   "execution_count": 36,
   "id": "fd878cb9",
   "metadata": {},
   "outputs": [],
   "source": [
    "# Для решения уравнений \n",
    "\n",
    "# Achtung: далее решать через jupyter будет бесполезно \n",
    "# если полученная система уравнений окажется нелинейной\n",
    "\n",
    "# Заполняем матрицу для решения СЛАУ\n",
    "# коэффициенты перед переменными записываем в следующем порядке:\n",
    "# x1 x2 ... xn l1 l2 ... lm\n",
    "\n",
    "A = np.matrix([[42, 16, 1],\n",
    "               [16, 18, 1],\n",
    "               [ 1,  1, 0]])\n",
    "\n",
    "b = np.array([192,\n",
    "              116,\n",
    "                5])\n",
    "xv = sp.linalg.solve(A, b)"
   ]
  },
  {
   "cell_type": "code",
   "execution_count": 37,
   "id": "dcee7934",
   "metadata": {},
   "outputs": [
    {
     "data": {
      "text/plain": [
       "array([ 3.07142857,  1.92857143, 32.14285714])"
      ]
     },
     "execution_count": 37,
     "metadata": {},
     "output_type": "execute_result"
    }
   ],
   "source": [
    "xv"
   ]
  },
  {
   "cell_type": "code",
   "execution_count": 44,
   "id": "218931f6",
   "metadata": {},
   "outputs": [
    {
     "name": "stdout",
     "output_type": "stream",
     "text": [
      "Достаточное условие выполняется\n"
     ]
    }
   ],
   "source": [
    "# Проверяем достаточное условие ???\n",
    "\n",
    "Jac = np.matrix([[42, 16],\n",
    "                 [16, 18]])\n",
    "if Jac[0, 0] > 0 and Jac[0, 0] * Jac[1, 1] - Jac[0, 1] * Jac[1, 0] > 0:\n",
    "    print (\"Достаточное условие выполняется\")\n",
    "else:\n",
    "    print (\"Достаточное условие не выполняется\")"
   ]
  },
  {
   "cell_type": "markdown",
   "id": "724b726d",
   "metadata": {},
   "source": [
    "## 5. Для задачи $min\\{f(x)| q(x) \\leq c\\}$ записать необходимые условия Куна – Таккера."
   ]
  },
  {
   "cell_type": "code",
   "execution_count": 53,
   "id": "561c4909",
   "metadata": {},
   "outputs": [],
   "source": [
    "# Задаем все имеющиеся переменные\n",
    "x1 = sm.Symbol('x1')\n",
    "x2 = sm.Symbol('x2')\n",
    "l = sm.Symbol('l')\n",
    "\n",
    "# Задаем функцию\n",
    "F4 = 5 * (2 * x1 + x2 - 10) ** 2 + (x1 - 2 * x2 + 4) ** 2 + l * (- x1 - x2 + 5)"
   ]
  },
  {
   "cell_type": "code",
   "execution_count": 54,
   "id": "0af31426",
   "metadata": {},
   "outputs": [
    {
     "data": {
      "text/latex": [
       "$\\displaystyle - l + 42 x_{1} + 16 x_{2} - 192$"
      ],
      "text/plain": [
       "-l + 42*x1 + 16*x2 - 192"
      ]
     },
     "execution_count": 54,
     "metadata": {},
     "output_type": "execute_result"
    }
   ],
   "source": [
    "F4.diff(x1)"
   ]
  },
  {
   "cell_type": "code",
   "execution_count": 55,
   "id": "f335ad28",
   "metadata": {},
   "outputs": [
    {
     "data": {
      "text/latex": [
       "$\\displaystyle - l + 16 x_{1} + 18 x_{2} - 116$"
      ],
      "text/plain": [
       "-l + 16*x1 + 18*x2 - 116"
      ]
     },
     "execution_count": 55,
     "metadata": {},
     "output_type": "execute_result"
    }
   ],
   "source": [
    "F4.diff(x2)"
   ]
  },
  {
   "cell_type": "code",
   "execution_count": 56,
   "id": "85c9ca6a",
   "metadata": {},
   "outputs": [
    {
     "data": {
      "text/latex": [
       "$\\displaystyle - x_{1} - x_{2} + 5$"
      ],
      "text/plain": [
       "-x1 - x2 + 5"
      ]
     },
     "execution_count": 56,
     "metadata": {},
     "output_type": "execute_result"
    }
   ],
   "source": [
    "F4.diff(l)"
   ]
  },
  {
   "cell_type": "markdown",
   "id": "a38d8c60",
   "metadata": {},
   "source": [
    "## 6.\tРешить симплекс-методом. Привести геометрическую интерпретацию решения."
   ]
  },
  {
   "cell_type": "markdown",
   "id": "8fda618f",
   "metadata": {},
   "source": [
    "### Теория"
   ]
  },
  {
   "cell_type": "markdown",
   "id": "cd21b431",
   "metadata": {},
   "source": [
    "Алгоритм симплекс-метода состоит из двух этапов:\n",
    "1. построить опорный план\n",
    "2. построить оптимальный план"
   ]
  },
  {
   "cell_type": "markdown",
   "id": "3a11f4b0",
   "metadata": {},
   "source": [
    "#### Построение опорного плана\n",
    "Пусть необходимо решить задачу:\n",
    "$$Q(x) = \\sum_i c_i x_i$$\n",
    "\n",
    "$$\\sum_i \\alpha_{1,i} x_{1,i} = \\beta_1$$\n",
    "\n",
    "$$\\sum_i \\alpha_{2,i} x_{2,i} = \\beta_2$$\n",
    "\n",
    "$$...$$\n",
    "\n",
    "$$\\sum_i \\alpha_{m,i} x_{m,i} = \\beta_m$$\n",
    "\n",
    "$$\\sum_i \\alpha_{m+1,i} x_{m+1,i} \\leq \\beta_{m+1}$$\n",
    "\n",
    "$$...$$\n",
    "\n",
    "$$\\sum_i \\alpha_{n,i} x_{n,i} \\leq \\beta_n$$\n",
    "\n",
    "Введем дополнительные переменные, чтобы преобразовать ограничения-неравенства к равенствам\n",
    "\n",
    "$$0 = \\beta_1 - \\sum_i \\alpha_{1,i} x_{1,i}$$\n",
    "\n",
    "$$0 = \\beta_2 - \\sum_i \\alpha_{2,i} x_{2,i}$$\n",
    "\n",
    "$$...$$\n",
    "\n",
    "$$0 = \\beta_m - \\sum_i \\alpha_{m,i} x_{m,i}$$\n",
    "\n",
    "$$x_{n+1} = \\beta_{m+1} - \\sum_i \\alpha_{m+1,i} x_{m+1,i}$$\n",
    "\n",
    "$$...$$\n",
    "\n",
    "$$x{n+p} = \\beta_n - \\sum_i \\alpha_{n,i} x_{n,i}$$\n",
    "\n"
   ]
  },
  {
   "cell_type": "markdown",
   "id": "003bcb81",
   "metadata": {},
   "source": [
    "Построим симплекс-таблицу:\n",
    "\n",
    "|           | $-x_1$      | $-x_2$      | .... | $-x_s$      | .... | $-x_n$      | $1$       |\n",
    "|-----------|-------------|-------------|------|-------------|------|-------------|-----------|\n",
    "| $0=$      | $a_{1,1}$   | $a_{1,2}$   | .... | $a_{1,s}$   | .... | $a_{1,n}$   | $b_1$     |\n",
    "|           |             |             |      |             |      |             |           |\n",
    "| $0=$      | $a_{m,1}$   | $a_{m,2}$   | .... | $a_{m,s}$   | .... | $a_{m,n}$   | $b_m$     |\n",
    "| $x_{n+1}$ | $a_{m+1,1}$ | $a_{m+1,2}$ | .... | $a_{m+1,s}$ | .... | $a_{m+1,n}$ | $b_{m+1}$ |\n",
    "|           |             |             |      |             |      |             |           |\n",
    "| $x_{n+p}$ | $a_{m+p,1}$ | $a_{m+p,2}$ | .... | $a_{m+p,s}$ | .... | $a_{m+p,n}$ | $b_{m+p}$ |\n",
    "|$Q(x)=$    | $-c_1$      | $-c_2$      | .... | $-c_s$      | .... | $-c_n$      |$0$        |"
   ]
  },
  {
   "cell_type": "markdown",
   "id": "68adfb88",
   "metadata": {},
   "source": [
    "*Правила выбора разрешающего элемента при поиске опорного плана*\n",
    "1. "
   ]
  },
  {
   "cell_type": "markdown",
   "id": "b7bf4f2e",
   "metadata": {},
   "source": [
    "#### Построение оптимального плана\n",
    "Чтобы опорный план был оптимален при минимизации целевой функции, необходимо, чтобы коэффициенты в строке целевой функции были неположительными"
   ]
  },
  {
   "cell_type": "markdown",
   "id": "371f1dcd",
   "metadata": {},
   "source": [
    "### Пример"
   ]
  },
  {
   "cell_type": "markdown",
   "id": "e0e05e4d",
   "metadata": {},
   "source": [
    "Пусть необходимо решить следующую задачу \n",
    "\n",
    "$$max(29x_1 + 45x_2)$$\n",
    "\n",
    "С системой ограничений\n",
    "\n",
    "$$x_1 - x_2 - 3x_3 \\leq 5$$\n",
    "\n",
    "$$2x_1 - 3x_2 - 7x_3 + 3x_4 \\geq 10$$\n",
    "\n",
    "$$2x_1 + 8x_2 + x_3 = 60$$\n",
    "\n",
    "$$4x_1 + 4x_2 + x_4 = 60$$\n",
    "\n",
    "$$0 \\leq x_0$$\n",
    "\n",
    "$$0 \\leq x_1 \\leq 5$$\n",
    "\n",
    "$$x_2 \\leq 0.5$$\n",
    "\n",
    "$$-3 \\leq x_3$$\n",
    "\n",
    "Запишем задачу в следующем виде:\n",
    "\n",
    "$$min(-29x_1 - 45x_2 + 0x_3 + 0x_4)$$\n",
    "\n",
    "Тогда будем иметь ввиду, что\n",
    "\n",
    "$$c = [-29, -45, 0, 0]^T$$"
   ]
  },
  {
   "cell_type": "code",
   "execution_count": 16,
   "id": "344c4803",
   "metadata": {},
   "outputs": [],
   "source": [
    "c = np.array([-7.0, -10.0])"
   ]
  },
  {
   "cell_type": "markdown",
   "id": "a539bb50",
   "metadata": {},
   "source": [
    "Занесем все ограничения с неравенством в следующую матрицу $A_{ub}$ и вектор $b_{ub}$, при условии что \n",
    "$$A_{ub}x \\leq b_{ub}$$"
   ]
  },
  {
   "cell_type": "code",
   "execution_count": 17,
   "id": "848027a3",
   "metadata": {},
   "outputs": [],
   "source": [
    "A_ub = np.array([[-4.0, -3.0],\n",
    "                 [7.0, 2.0]])\n",
    "b_ub = np.array([-4.0, 75.0])"
   ]
  },
  {
   "cell_type": "markdown",
   "id": "174027b6",
   "metadata": {},
   "source": [
    "Занесем все ограничения с равенством в следующую матрицу $A_{eq}$ и вектор $b_{eq}$, при условии что \n",
    "$$A_{eq}x = b_{eq}$$"
   ]
  },
  {
   "cell_type": "code",
   "execution_count": 18,
   "id": "87067e19",
   "metadata": {},
   "outputs": [],
   "source": [
    "#A_eq = np.matrix([[1, 1]])\n",
    "#\n",
    "A_eq = np.matrix([[0, 0], [0, 0]])\n",
    "b_eq = np.array([0, 0])\n",
    "#b_eq = np.array([7.0])"
   ]
  },
  {
   "cell_type": "markdown",
   "id": "ebbd78eb",
   "metadata": {},
   "source": [
    "Заполним оставшиеся границы"
   ]
  },
  {
   "cell_type": "code",
   "execution_count": 19,
   "id": "c668ba7c",
   "metadata": {},
   "outputs": [],
   "source": [
    "x0_bounds = (0, None)\n",
    "x1_bounds = (0, None)\n",
    "#x2_bounds = (-np.inf, 0.5)  # +/- np.inf can be used instead of None\n",
    "#x3_bounds = (-3.0, None)\n",
    "bounds = [x0_bounds, x1_bounds]"
   ]
  },
  {
   "cell_type": "markdown",
   "id": "0bfdb064",
   "metadata": {},
   "source": [
    "Решалка"
   ]
  },
  {
   "cell_type": "code",
   "execution_count": 24,
   "id": "4f3aabd6",
   "metadata": {},
   "outputs": [
    {
     "name": "stdout",
     "output_type": "stream",
     "text": [
      "        message: Optimization terminated successfully. (HiGHS Status 7: Optimal)\n",
      "        success: True\n",
      "         status: 0\n",
      "            fun: -375.0\n",
      "              x: [ 0.000e+00  3.750e+01]\n",
      "            nit: 0\n",
      "          lower:  residual: [ 0.000e+00  3.750e+01]\n",
      "                 marginals: [ 2.800e+01  0.000e+00]\n",
      "          upper:  residual: [       inf        inf]\n",
      "                 marginals: [ 0.000e+00  0.000e+00]\n",
      "          eqlin:  residual: [ 0.000e+00  0.000e+00]\n",
      "                 marginals: [-0.000e+00 -0.000e+00]\n",
      "        ineqlin:  residual: [ 1.085e+02  0.000e+00]\n",
      "                 marginals: [-0.000e+00 -5.000e+00]\n",
      " mip_node_count: 0\n",
      " mip_dual_bound: 0.0\n",
      "        mip_gap: 0.0\n"
     ]
    }
   ],
   "source": [
    "result = linprog(c, A_ub=A_ub, b_ub=b_ub, A_eq=A_eq, b_eq=b_eq, bounds=bounds)\n",
    "\n",
    "print(result)"
   ]
  },
  {
   "cell_type": "markdown",
   "id": "6571c198",
   "metadata": {},
   "source": [
    "## 7.\tРешить транспортную задачу методом потенциалов"
   ]
  },
  {
   "cell_type": "code",
   "execution_count": null,
   "id": "3dd80b94",
   "metadata": {},
   "outputs": [],
   "source": []
  },
  {
   "cell_type": "markdown",
   "id": "a518a98c",
   "metadata": {},
   "source": [
    "## \t8. Исследовать следующую задачу параметрического линейного программирования при $t   \\epsilon (-\\infty;a]$."
   ]
  },
  {
   "cell_type": "code",
   "execution_count": null,
   "id": "62f8cdff",
   "metadata": {},
   "outputs": [],
   "source": []
  },
  {
   "cell_type": "markdown",
   "id": "3b6cb9a1",
   "metadata": {},
   "source": [
    "## 9. Найти максимальный поток в сети и сечение с минимальной *(максимальной?)* пропускной способностью."
   ]
  },
  {
   "cell_type": "code",
   "execution_count": null,
   "id": "b1dcdba4",
   "metadata": {},
   "outputs": [],
   "source": []
  }
 ],
 "metadata": {
  "kernelspec": {
   "display_name": "Python 3 (ipykernel)",
   "language": "python",
   "name": "python3"
  },
  "language_info": {
   "codemirror_mode": {
    "name": "ipython",
    "version": 3
   },
   "file_extension": ".py",
   "mimetype": "text/x-python",
   "name": "python",
   "nbconvert_exporter": "python",
   "pygments_lexer": "ipython3",
   "version": "3.11.3"
  }
 },
 "nbformat": 4,
 "nbformat_minor": 5
}
